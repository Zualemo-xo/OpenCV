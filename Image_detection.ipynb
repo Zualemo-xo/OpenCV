{
 "cells": [
  {
   "cell_type": "code",
   "execution_count": null,
   "metadata": {},
   "outputs": [],
   "source": [
    "#!pip install opencv-python\n",
    "!pip install dlib"
   ]
  },
  {
   "cell_type": "code",
   "execution_count": 1,
   "metadata": {},
   "outputs": [],
   "source": [
    "import cv2\n",
    "import dlib\n",
    "# Load the detector\n",
    "detector = dlib.get_frontal_face_detector()\n",
    "# read the image\n",
    "img = cv2.imread(\"face.jpg\")\n",
    "# Convert image into grayscale\n",
    "gray = cv2.cvtColor(src=img, code=cv2.COLOR_BGR2GRAY)\n",
    "# Use detector to find landmarks\n",
    "faces = detector(gray)\n",
    "for face in faces:\n",
    "    x1 = face.left() # left point\n",
    "    y1 = face.top() # top point\n",
    "    x2 = face.right() # right point\n",
    "    y2 = face.bottom() # bottom point\n",
    "    # Draw a rectangle\n",
    "    cv2.rectangle(img=img, pt1=(x1, y1), pt2=(x2, y2), color=(0, 255, 0), thickness=4)\n",
    "# show the image\n",
    "cv2.imshow(winname=\"Face\", mat=img)\n",
    "# Wait for a key press to exit\n",
    "cv2.waitKey(delay=0)\n",
    "# Close all windows\n",
    "cv2.destroyAllWindows()"
   ]
  },
  {
   "cell_type": "code",
   "execution_count": 4,
   "metadata": {},
   "outputs": [],
   "source": [
    "import cv2\n",
    "import numpy as np\n",
    "import dlib\n",
    "# Load the detector\n",
    "detector = dlib.get_frontal_face_detector()\n",
    "# Load the predictor\n",
    "predictor = dlib.shape_predictor(\"shape_predictor_68_face_landmarks.dat\")\n",
    "# read the image\n",
    "img = cv2.imread(\"face.jpg\")\n",
    "# Convert image into grayscale\n",
    "gray = cv2.cvtColor(src=img, code=cv2.COLOR_BGR2GRAY)\n",
    "# Use detector to find landmarks\n",
    "faces = detector(gray)\n",
    "for face in faces:\n",
    "    x1 = face.left() # left point\n",
    "    y1 = face.top() # top point\n",
    "    x2 = face.right() # right point\n",
    "    y2 = face.bottom() # bottom point\n",
    "    # Create landmark object\n",
    "    landmarks = predictor(image=gray, box=face)\n",
    "    # Loop through all the points\n",
    "    for n in range(0, 68):\n",
    "        x = landmarks.part(n).x\n",
    "        y = landmarks.part(n).y\n",
    "        # Draw a circle\n",
    "        cv2.circle(img=img, center=(x, y), radius=3, color=(0, 255, 0), thickness=-1)\n",
    "# show the image\n",
    "cv2.imshow(winname=\"Face\", mat=img)\n",
    "# Delay between every fram\n",
    "cv2.waitKey(delay=0)\n",
    "# Close all windows\n",
    "cv2.destroyAllWindows()"
   ]
  },
  {
   "cell_type": "code",
   "execution_count": 5,
   "metadata": {},
   "outputs": [
    {
     "ename": "KeyboardInterrupt",
     "evalue": "",
     "output_type": "error",
     "traceback": [
      "\u001b[1;31m---------------------------------------------------------------------------\u001b[0m",
      "\u001b[1;31mKeyboardInterrupt\u001b[0m                         Traceback (most recent call last)",
      "\u001b[1;32m<ipython-input-5-4f1aa41ddf1b>\u001b[0m in \u001b[0;36m<module>\u001b[1;34m\u001b[0m\n\u001b[0;32m     17\u001b[0m \u001b[1;33m\u001b[0m\u001b[0m\n\u001b[0;32m     18\u001b[0m     \u001b[1;31m# Use detector to find landmarks\u001b[0m\u001b[1;33m\u001b[0m\u001b[1;33m\u001b[0m\u001b[1;33m\u001b[0m\u001b[0m\n\u001b[1;32m---> 19\u001b[1;33m     \u001b[0mfaces\u001b[0m \u001b[1;33m=\u001b[0m \u001b[0mdetector\u001b[0m\u001b[1;33m(\u001b[0m\u001b[0mgray\u001b[0m\u001b[1;33m)\u001b[0m\u001b[1;33m\u001b[0m\u001b[1;33m\u001b[0m\u001b[0m\n\u001b[0m\u001b[0;32m     20\u001b[0m \u001b[1;33m\u001b[0m\u001b[0m\n\u001b[0;32m     21\u001b[0m     \u001b[1;32mfor\u001b[0m \u001b[0mface\u001b[0m \u001b[1;32min\u001b[0m \u001b[0mfaces\u001b[0m\u001b[1;33m:\u001b[0m\u001b[1;33m\u001b[0m\u001b[1;33m\u001b[0m\u001b[0m\n",
      "\u001b[1;31mKeyboardInterrupt\u001b[0m: "
     ]
    }
   ],
   "source": [
    "import cv2\n",
    "import dlib\n",
    "\n",
    "# Load the detector\n",
    "detector = dlib.get_frontal_face_detector()\n",
    "\n",
    "# Load the predictor\n",
    "predictor = dlib.shape_predictor(\"shape_predictor_68_face_landmarks.dat\")\n",
    "\n",
    "# read the image\n",
    "cap = cv2.VideoCapture(0)\n",
    "\n",
    "while True:\n",
    "    _, frame = cap.read()\n",
    "    # Convert image into grayscale\n",
    "    gray = cv2.cvtColor(src=frame, code=cv2.COLOR_BGR2GRAY)\n",
    "\n",
    "    # Use detector to find landmarks\n",
    "    faces = detector(gray)\n",
    "\n",
    "    for face in faces:\n",
    "        x1 = face.left()  # left point\n",
    "        y1 = face.top()  # top point\n",
    "        x2 = face.right()  # right point\n",
    "        y2 = face.bottom()  # bottom point\n",
    "\n",
    "        # Create landmark object\n",
    "        landmarks = predictor(image=gray, box=face)\n",
    "\n",
    "        # Loop through all the points\n",
    "        for n in range(0, 68):\n",
    "            x = landmarks.part(n).x\n",
    "            y = landmarks.part(n).y\n",
    "\n",
    "            # Draw a circle\n",
    "            cv2.circle(img=frame, center=(x, y), radius=3, color=(0, 255, 0), thickness=-1)\n",
    "\n",
    "    # show the image\n",
    "    cv2.imshow(winname=\"Face\", mat=frame)\n",
    "\n",
    "    # Exit when escape is pressed\n",
    "    if cv2.waitKey(delay=1) == 27:\n",
    "        break\n",
    "\n",
    "# When everything done, release the video capture and video write objects\n",
    "cap.release()\n",
    "\n",
    "# Close all windows\n",
    "cv2.destroyAllWindows()"
   ]
  },
  {
   "cell_type": "code",
   "execution_count": null,
   "metadata": {},
   "outputs": [],
   "source": []
  }
 ],
 "metadata": {
  "kernelspec": {
   "display_name": "Python 3",
   "language": "python",
   "name": "python3"
  },
  "language_info": {
   "codemirror_mode": {
    "name": "ipython",
    "version": 3
   },
   "file_extension": ".py",
   "mimetype": "text/x-python",
   "name": "python",
   "nbconvert_exporter": "python",
   "pygments_lexer": "ipython3",
   "version": "3.7.3"
  }
 },
 "nbformat": 4,
 "nbformat_minor": 2
}
